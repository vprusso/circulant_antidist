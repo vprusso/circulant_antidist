{
 "cells": [
  {
   "cell_type": "markdown",
   "id": "1a081c9f",
   "metadata": {},
   "source": [
    "# Circulant sets of pure quantum states and tight bounds for antidistinguishability"
   ]
  },
  {
   "cell_type": "markdown",
   "id": "2b56c5a6",
   "metadata": {},
   "source": [
    "Let $n$ and $d$ be integers and let $\\mathcal{X} = \\mathbb{C}^d$ represent a complex Euclidean space. A collection of quantum states $\\{|\\psi_0\\rangle, \\ldots, |\\psi_{n-1}\\rangle\\} \\subset \\mathcal{X}$ are *antidistinguishable* if there exists a collection of positive operator value measurements $\\{M_0, \\ldots, M_{n-1}\\}$ such that $\\langle \\psi_i | M_i | \\psi_i \\rangle = 0$ for all $0 \\leq i \\leq n-1$. Recall that a collection of POVMs are positive semidefinite operators $\\{M_i : 0 \\leq i \\leq n-1\\} \\subset \\text{Pos}(\\mathcal{X})$ that satisfy \n",
    "$$\n",
    "\\sum_{i=0}^{n-1} M_i = \\mathbb{I}_{\\mathcal{X}}.\n",
    "$$\n",
    "\n",
    "The following list of imports will be used throughout the remainder of the notebook."
   ]
  },
  {
   "cell_type": "code",
   "execution_count": 1,
   "id": "6fe08db2",
   "metadata": {},
   "outputs": [],
   "source": [
    "import numpy as np\n",
    "import picos\n",
    "import matplotlib.pyplot as plt\n",
    "from collections import defaultdict\n",
    "\n",
    "from toqito.state_props import is_antidistinguishable\n",
    "from toqito.matrices import standard_basis\n",
    "from toqito.state_opt import state_exclusion\n",
    "from toqito.matrix_ops import vectors_from_gram_matrix, vectors_to_gram_matrix\n",
    "\n",
    "from qiskit.quantum_info.states.random import random_statevector"
   ]
  },
  {
   "cell_type": "markdown",
   "id": "153abbac",
   "metadata": {},
   "source": [
    "### Semidefinite program for antidistinguishability"
   ]
  },
  {
   "cell_type": "markdown",
   "id": "ac3498fa",
   "metadata": {},
   "source": [
    "Whether a collection of states $\\{|\\psi_0 \\rangle, \\ldots, |\\psi_{n-1}\\rangle \\}$ are antidistinguishable or not can be determined by the following semidefinite program (SDP)."
   ]
  },
  {
   "cell_type": "markdown",
   "id": "7b0eeadf",
   "metadata": {},
   "source": [
    "$$\n",
    "    \\begin{equation}\n",
    "        \\begin{aligned}\n",
    "            \\textbf{Primal:} \\quad & \\\\\n",
    "            \\text{minimize:} \\quad & \\sum_{i=0}^{n-1} \\langle \\psi_i | M_i | \\psi_i \\rangle  \\\\\n",
    "            \\text{subject to:} \\quad & \\sum_{i=0}^{n-1} M_i = \\mathbb{I}_{\\mathcal{X}}, \\\\\n",
    "                                     & M_i \\in \\text{Pos}(\\mathcal{X}) \\quad \\forall \\ 0 \\leq i \\leq n-1.\n",
    "        \\end{aligned}\n",
    "    \\end{equation}\n",
    "$$\n",
    "\n",
    "$$\n",
    "    \\begin{equation}\n",
    "        \\begin{aligned}\n",
    "            \\textbf{Dual:} \\quad & \\\\\n",
    "            \\text{maximize:} \\quad & \\text{Tr}(Y) \\\\\n",
    "            \\text{subject to:} \\quad & Y \\preceq |\\psi_i \\rangle \\langle \\psi_i| \\quad \\forall \\ 0 \\leq i \\leq n-1, \\\\\n",
    "                                     & Y \\in \\text{Herm}(\\mathcal{X}).\n",
    "        \\end{aligned}\n",
    "    \\end{equation}\n",
    "$$"
   ]
  },
  {
   "cell_type": "markdown",
   "id": "85fb476c",
   "metadata": {},
   "source": [
    "In particular, a collection of states are antidistinguishable if and only if the optimal value of the SDP is equal to zero. This SDP is implemented via the `state_exclusion` function from `toqito`."
   ]
  },
  {
   "cell_type": "markdown",
   "id": "5a20c13d",
   "metadata": {},
   "source": [
    "### Example: Antidistinguishability of random sets of states"
   ]
  },
  {
   "cell_type": "markdown",
   "id": "ad5a3440",
   "metadata": {},
   "source": [
    "We can generate `num_examples` random sets of states consisting of `num_states` states; each of dimension `dim`. We can then check whether the set of states are antidistinguishable or not by checking whether the optimal value returned by the SDP is close to zero (antidistinguishable) or stricly above zero (non-antidistinguishable)."
   ]
  },
  {
   "cell_type": "code",
   "execution_count": 2,
   "id": "e50b0f31",
   "metadata": {},
   "outputs": [
    {
     "name": "stdout",
     "output_type": "stream",
     "text": [
      "Is antidistinguishable: True\n",
      "Is antidistinguishable: True\n",
      "Is antidistinguishable: True\n",
      "Is antidistinguishable: True\n",
      "Is antidistinguishable: True\n",
      "Is antidistinguishable: False\n",
      "Is antidistinguishable: True\n",
      "Is antidistinguishable: True\n",
      "Is antidistinguishable: True\n",
      "Is antidistinguishable: True\n"
     ]
    }
   ],
   "source": [
    "num_examples, num_states, dim = 10, 4, 4\n",
    "for _ in range(num_examples):\n",
    "    # Generate a collection of `n` random `d`-dimensional vectors.\n",
    "    vectors = [random_statevector(dim).data for _ in range(num_states)]  \n",
    "    opt_val, _ = state_exclusion(vectors, probs=[1, 1, 1, 1], primal_dual=\"dual\")\n",
    "    print(f\"Is antidistinguishable: {np.isclose(0, opt_val)}\") "
   ]
  },
  {
   "cell_type": "markdown",
   "id": "85a1e5c0",
   "metadata": {},
   "source": [
    "### Example: Trine states"
   ]
  },
  {
   "cell_type": "markdown",
   "id": "32a200bf",
   "metadata": {},
   "source": [
    "The so-called *trine states* are a set of three states, each of dimension two defined as\n",
    "\n",
    "$$\n",
    "|\\psi_0\\rangle = |0\\rangle, \\quad\n",
    "|\\psi_1\\rangle = -\\frac{1}{2}(|0\\rangle + \\sqrt{3}|1\\rangle), \\quad\n",
    "|\\psi_2\\rangle = -\\frac{1}{2}(|0\\rangle - \\sqrt{3}|1\\rangle).\n",
    "$$\n",
    "\n",
    "An interesting property of these states is that they are antidistinguishable but *not* distinguishable. The SDP also gives us the ability to extract the optimal measurements of these states as well defined as:\n",
    "\n",
    "$$\n",
    "\\begin{equation}\n",
    "    M_0 = \\frac{2}{3} |\\psi_0^{\\perp} \\rangle \\langle \\psi_0^{\\perp}|, \\quad\n",
    "    M_1 = \\frac{2}{3} |\\psi_1^{\\perp} \\rangle \\langle \\psi_1^{\\perp}|, \\quad\n",
    "    M_2 = \\frac{2}{3} |\\psi_2^{\\perp} \\rangle \\langle \\psi_2^{\\perp}|\n",
    "\\end{equation}\n",
    "$$\n",
    "\n",
    "where $|\\psi_i^\\perp \\rangle$ is the orthogonal complement of $|\\psi_i \\rangle$ for all $i \\in \\{0, 1, 2\\}$. "
   ]
  },
  {
   "cell_type": "code",
   "execution_count": 3,
   "id": "70e3633b",
   "metadata": {
    "scrolled": false
   },
   "outputs": [
    {
     "name": "stdout",
     "output_type": "stream",
     "text": [
      "Optimal SDP value: 6.7353163001246e-11\n",
      "Measurements:\n",
      "M_0 = \n",
      " [[ 0.     +0.j -0.     +0.j]\n",
      " [-0.     -0.j  0.66667+0.j]]\n",
      "M_1 = \n",
      " [[0.5    +0.j 0.28868+0.j]\n",
      " [0.28868-0.j 0.16667+0.j]]\n",
      "M_2 = \n",
      " [[ 0.5    +0.j -0.28868-0.j]\n",
      " [-0.28868+0.j  0.16667+0.j]]\n"
     ]
    }
   ],
   "source": [
    "# Define the standard basis 2-qubit basis (|0>, |1>).\n",
    "e0, e1 = standard_basis(2)\n",
    "\n",
    "# Define the \"trine\" states.\n",
    "phi0 = e0\n",
    "phi1 = -1/2 * e0 + np.sqrt(3)/2 * e1\n",
    "phi2 = -1/2 * e0 - np.sqrt(3)/2 * e1\n",
    "\n",
    "# The trine states are antidistinguishable.\n",
    "trine_vectors = [phi0, phi1, phi2]\n",
    "opt_value, measurements = state_exclusion(trine_vectors, probs=[1, 1, 1], primal_dual=\"primal\")\n",
    "\n",
    "# SDP value being zero indicates that the states are antidistinguishable.\n",
    "print(f\"Optimal SDP value: {opt_value}\")\n",
    "\n",
    "print(\"Measurements:\")\n",
    "print(f\"M_0 = \\n {np.around(measurements[0], decimals=5)}\")\n",
    "print(f\"M_1 = \\n {np.around(measurements[1], decimals=5)}\")\n",
    "print(f\"M_2 = \\n {np.around(measurements[2], decimals=5)}\")"
   ]
  },
  {
   "cell_type": "markdown",
   "id": "2df45302",
   "metadata": {},
   "source": [
    "Observe that the measurement operators obtained from the SDP match the ones we defined up above based on the orthogonal vectors:"
   ]
  },
  {
   "cell_type": "code",
   "execution_count": 4,
   "id": "c5e35240",
   "metadata": {},
   "outputs": [
    {
     "name": "stdout",
     "output_type": "stream",
     "text": [
      "Measurements:\n",
      "M_0 = \n",
      " [[0.         0.        ]\n",
      " [0.         0.66666667]]\n",
      "M_1 = \n",
      " [[0.5        0.28867513]\n",
      " [0.28867513 0.16666667]]\n",
      "M_2 = \n",
      " [[ 0.5        -0.28867513]\n",
      " [-0.28867513  0.16666667]]\n"
     ]
    }
   ],
   "source": [
    "m0 = e1\n",
    "m1 = -np.sqrt(3)/2 * e0 - 1/2 * e1\n",
    "m2 = np.sqrt(3)/2 * e0 - 1/2 * e1\n",
    "print(\"Measurements:\")\n",
    "print(f\"M_0 = \\n {2/3 * (m0 @ m0.conj().T)}\")\n",
    "print(f\"M_1 = \\n {2/3 * (m1 @ m1.conj().T)}\")\n",
    "print(f\"M_2 = \\n {2/3 * (m2 @ m2.conj().T)}\")"
   ]
  },
  {
   "cell_type": "markdown",
   "id": "c69d38b2",
   "metadata": {},
   "source": [
    "Note that as a shorthand, `toqito` provides a helper function to determine whether or not a set of states are antidistinguishable or not. For instance:"
   ]
  },
  {
   "cell_type": "code",
   "execution_count": 5,
   "id": "5834f3cf",
   "metadata": {
    "scrolled": true
   },
   "outputs": [
    {
     "data": {
      "text/plain": [
       "True"
      ]
     },
     "execution_count": 5,
     "metadata": {},
     "output_type": "execute_result"
    }
   ],
   "source": [
    "is_antidistinguishable(trine_vectors)"
   ]
  },
  {
   "cell_type": "markdown",
   "id": "49eec075",
   "metadata": {},
   "source": [
    "### Antidistinguishability and Gram matrices"
   ]
  },
  {
   "cell_type": "markdown",
   "id": "daa66080",
   "metadata": {},
   "source": [
    "For a collection of vectors $\\{|\\psi_0\\rangle, \\ldots, |\\psi_{n-1}\\rangle\\}$, the corresponding Gram matrix is defined as\n",
    "\n",
    "$$\n",
    "G :=\n",
    "\\begin{bmatrix}\n",
    "1 & \\langle \\psi_0 | \\psi_1 \\rangle & \\langle \\psi_0 | \\psi_2 \\rangle & \\ldots & \\langle \\psi_0 | \\psi_{n-1} \\rangle \\\\\n",
    "\\langle \\psi_1 | \\psi_0 \\rangle & 1 & \\langle \\psi_1 | \\psi_2 \\rangle & \\ldots & \\langle \\psi_1 | \\psi_{n-1} \\rangle \\\\\n",
    "\\langle \\psi_2 | \\psi_0 \\rangle & \\langle \\psi_2 | \\psi_1 \\rangle & 1 & \\ldots & \\langle \\psi_2 | \\psi_{n-1} \\rangle \\\\\n",
    "\\vdots & \\vdots & \\vdots & \\ddots & \\vdots \\\\\n",
    "\\langle \\psi_{n-1} | \\psi_0 \\rangle & \\langle \\psi_{n-1} | \\psi_1 \\rangle & \\langle \\psi_{n-1} | \\psi_2 \\rangle & \\ldots & 1\n",
    "\\end{bmatrix}\n",
    "$$"
   ]
  },
  {
   "cell_type": "markdown",
   "id": "89cb6eee",
   "metadata": {},
   "source": [
    "The `vectors_to_gram_matrix` function takes a collection of vectors and produces the corresponding Gram matrix. For instance, consider the Bell states from before. It may be observed that the corresponding Gram matrix of the trine states is\n",
    "\n",
    "$$\n",
    "G_{\\text{trine}} =\n",
    "\\frac{1}{2}\n",
    "\\begin{bmatrix}\n",
    "    2 & -1 & -1 \\\\\n",
    "    -1 & 2 & -1 \\\\\n",
    "    -1 & -1 & 2\n",
    "\\end{bmatrix}.\n",
    "$$"
   ]
  },
  {
   "cell_type": "code",
   "execution_count": 6,
   "id": "c51b0730",
   "metadata": {
    "scrolled": true
   },
   "outputs": [
    {
     "data": {
      "text/plain": [
       "array([[ 1. , -0.5, -0.5],\n",
       "       [-0.5,  1. , -0.5],\n",
       "       [-0.5, -0.5,  1. ]])"
      ]
     },
     "execution_count": 6,
     "metadata": {},
     "output_type": "execute_result"
    }
   ],
   "source": [
    "gram_trine = vectors_to_gram_matrix(trine_vectors)\n",
    "gram_trine"
   ]
  },
  {
   "cell_type": "markdown",
   "id": "244fadbe",
   "metadata": {},
   "source": [
    "The following SDP is defined in terms of the Gram matrix and attains an optimal value that is equivalent to the antidistinguishability SDP.\n",
    "\n",
    "$$\n",
    "    \\begin{equation}\n",
    "        \\begin{aligned}\n",
    "            \\textbf{Dual:} \\quad & \\\\\n",
    "            \\text{maximize:} \\quad & \\text{Tr}(GY) \\\\\n",
    "            \\text{subject to:} \\quad & Y \\preceq |i \\rangle \\langle i| \\quad \\forall \\ 0 \\leq i \\leq n-1, \\\\\n",
    "                                     & Y \\in \\text{Herm}(\\mathcal{X}).\n",
    "        \\end{aligned}\n",
    "    \\end{equation}\n",
    "$$"
   ]
  },
  {
   "cell_type": "code",
   "execution_count": 7,
   "id": "244863e1",
   "metadata": {},
   "outputs": [],
   "source": [
    "def gram_dual(gram: list[np.ndarray]) -> float:\n",
    "    \"\"\"Compute the dual gram matrix antidistinguishability SDP problem.\n",
    "    \n",
    "    :param vectors: List of vectors.\n",
    "    :return: Optimal value of gram matrix antidistinguishability SDP.\n",
    "    \"\"\"\n",
    "    problem = picos.Problem()\n",
    "\n",
    "    dim, num_states = gram.shape[0], gram.shape[1]\n",
    "\n",
    "    y_var = picos.HermitianVariable(\"Y\", (dim, dim))\n",
    "    problem.add_list_of_constraints([\n",
    "        y_var << np.eye(1, dim, i).T * np.eye(1, dim, i).conj()\n",
    "        for i in range(num_states)\n",
    "    ])\n",
    "    \n",
    "    # Objective function:\n",
    "    problem.set_objective(\"max\", np.real((y_var.H | gram)))\n",
    "    solution = problem.solve()\n",
    "\n",
    "    return solution.value"
   ]
  },
  {
   "cell_type": "markdown",
   "id": "8328a9cd",
   "metadata": {},
   "source": [
    "As an example, the trine states yield an optimal value of $0$, indicating that they are antidistinguishable (as we have seen before):"
   ]
  },
  {
   "cell_type": "code",
   "execution_count": 8,
   "id": "ce50ef5e",
   "metadata": {
    "scrolled": true
   },
   "outputs": [
    {
     "name": "stdout",
     "output_type": "stream",
     "text": [
      "Is antidistinguishable: True\n"
     ]
    }
   ],
   "source": [
    "print(f\"Is antidistinguishable: {np.isclose(0, gram_dual(gram_trine))}\")"
   ]
  },
  {
   "cell_type": "markdown",
   "id": "297810c9",
   "metadata": {},
   "source": [
    "### Example: Sufficient tight example for n=4"
   ]
  },
  {
   "cell_type": "markdown",
   "id": "1b40eaff",
   "metadata": {},
   "source": [
    "Let $c = 1/\\sqrt{3}$ and consider the matrix\n",
    "\n",
    "$$\n",
    "G := \n",
    "\\begin{bmatrix}\n",
    "    1 & c & c & c \\\\\n",
    "    c & 1 & ci & (1+ci)/2 \\\\\n",
    "    c & -ci & 1 & (1-ci)/2 \\\\\n",
    "    c & (1-ci)/2 & (1+ci)/2 & 1\n",
    "\\end{bmatrix}\n",
    "$$\n",
    "\n",
    "It is straightforward to check that $G$ is positive semidefinite and is thus the Gram matrix of some set $S$ of $n = 4$ pure states. Since $|g_{i,j}| = 1/\\sqrt{3}$ for all $i \\neq j$, $S$ is antidistinguishable."
   ]
  },
  {
   "cell_type": "code",
   "execution_count": 9,
   "id": "b4bf6bd4",
   "metadata": {
    "scrolled": true
   },
   "outputs": [
    {
     "name": "stdout",
     "output_type": "stream",
     "text": [
      "Matrix is not positive semidefinite. Using eigendecomposition as alternative.\n",
      "Is antidistinguishable: True\n"
     ]
    }
   ],
   "source": [
    "# This Gram matrix is antidistinguishable:\n",
    "c = 1/np.sqrt(3)\n",
    "gram = np.array([\n",
    "    [1, c, c, c],\n",
    "    [c, 1, c*1j, (1 + c*1j)/2],\n",
    "    [c, -c*1j, 1, (1-c*1j)/2],\n",
    "    [c, (1-c*1j)/2, (1+c*1j)/2, 1]\n",
    "])\n",
    "\n",
    "vectors = vectors_from_gram_matrix(gram)\n",
    "gram_opt_value, _ = state_exclusion(vectors)\n",
    "print(f\"Is antidistinguishable: {np.isclose(0, gram_opt_value)}\")"
   ]
  },
  {
   "cell_type": "markdown",
   "id": "e57a464a",
   "metadata": {},
   "source": [
    "Now let $\\varepsilon > 0$ be small, let $\\mathbf{v} = [1, (-\\sqrt{3} + i)/2, (-\\sqrt{3} - i)/2, 0]^T$ and $\\mathbf{w} = [0,0,0,1]^T$, and define\n",
    "$$\n",
    "    G_{\\varepsilon} = \\frac{1}{1 - 2\\varepsilon}\\big(G + \\varepsilon (\\mathbf{v}\\mathbf{v}^* + \\mathbf{w}\\mathbf{w}^* - 3I)\\big).\n",
    "$$\n",
    "\n",
    "A straightforward computation shows that $G_{\\varepsilon}$ is positive semidefinite and its diagonal entries all equal $1$, so it is the Gram matrix of some set $S_\\varepsilon$ of $n = 4$ pure states. Furthermore, $G_0 = G$ and the off-diagonal entries of $G_{\\varepsilon}$ are continuous in $\\varepsilon$ near $\\varepsilon = 0$, so the inner products of the members of $S_{\\varepsilon}$ can be made to have modulus as close to $1/\\sqrt{3}$ as we like.\n",
    "\n",
    "We claim that $G_{\\varepsilon}$ is not $(n-1) = 3$-incoherent, which implies that $S_{\\varepsilon}$ is not antidistinguishable."
   ]
  },
  {
   "cell_type": "code",
   "execution_count": 10,
   "id": "4b3e20db",
   "metadata": {},
   "outputs": [
    {
     "name": "stdout",
     "output_type": "stream",
     "text": [
      "Matrix is not positive semidefinite. Using eigendecomposition as alternative.\n",
      "Is antidistinguishable: False -- Optimal SDP value: 0.006814717172559626\n"
     ]
    }
   ],
   "source": [
    "# For small eps > 0, it is not antidistinguishable:\n",
    "eps = 0.1\n",
    "v = np.array([1, (-np.sqrt(3) + 1j)/2, (-np.sqrt(3) - 1j)/2, 0]).reshape(-1, 1)\n",
    "w = np.array([0, 0, 0, 1]).reshape(-1, 1)\n",
    "\n",
    "gram_eps = 1/(1 - 2 * eps) * (gram + eps * (v @ v.conj().T + w @ w.conj().T - 3 * np.identity(4)))\n",
    "vectors = vectors_from_gram_matrix(gram_eps)\n",
    "gram_eps_opt_value, _ = state_exclusion(vectors)\n",
    "print(f\"Is antidistinguishable: {np.isclose(0, gram_eps_opt_value)} -- Optimal SDP value: {gram_eps_opt_value}\")"
   ]
  },
  {
   "cell_type": "markdown",
   "id": "9b6f5515",
   "metadata": {},
   "source": [
    "### Example: Incoherent decomposition of Gram matrix"
   ]
  },
  {
   "cell_type": "markdown",
   "id": "75dd0dc4",
   "metadata": {},
   "source": [
    "Let $0 \\leq \\gamma \\leq 1$ be a real number and let $\\{|\\psi_0\\rangle, |\\psi_1\\rangle, \\ldots, |\\psi_{n-1}\\rangle\\}$ be such that $\\langle \\psi_i | \\psi_j \\rangle = \\gamma$ whenever $i \\ne j$. In other words, if $\\bf{1}$ is the all-ones vector then the corresponding Gram matrix is\n",
    "\n",
    "$$\n",
    "G = \\mathbb{I}_{\\mathcal{X}} + \\gamma (\\bf{1}\\bf{1}^{T} - \\mathbb{I}_{\\mathcal{X}}) = \n",
    "\\begin{bmatrix}\n",
    "            1 & \\gamma & \\gamma & \\cdots & \\gamma \\\\\n",
    "            \\gamma & 1 & \\gamma & \\cdots & \\gamma \\\\\n",
    "            \\gamma & \\gamma & 1 & \\cdots & \\gamma \\\\\n",
    "            \\vdots & \\vdots & \\vdots & \\ddots & \\vdots \\\\\n",
    "            \\gamma & \\gamma & \\gamma & \\cdots & 1\n",
    "        \\end{bmatrix}.\n",
    "$$\n",
    "\n",
    "As stated in the work on which this notebook is based, the corresponding vectors of $G$ are antidistinguishable if and only if $\\gamma \\leq (n-2)/(n-1)$."
   ]
  },
  {
   "cell_type": "code",
   "execution_count": 11,
   "id": "057cfdee",
   "metadata": {},
   "outputs": [
    {
     "data": {
      "image/png": "[encoded data removed]",
      "text/plain": [
       "<Figure size 640x480 with 1 Axes>"
      ]
     },
     "metadata": {},
     "output_type": "display_data"
    }
   ],
   "source": [
    "def plot_dims(step: int = 10, start_dim: int = 3, end_dim: int = 8) -> None:\n",
    "    eps = 0.0001\n",
    "    plot_vals = defaultdict(dict)\n",
    "    for n in range(start_dim, end_dim):\n",
    "        gammas, opt_vals = [], []\n",
    "        e = np.ones(n)\n",
    "        for gamma in np.linspace(0, 1-eps, step):\n",
    "            gram = (1 - (gamma*(n-1))/(n-2)) * np.identity(n) + gamma * (e * e.T + 1/(n-2) * np.identity(n))\n",
    "            vectors = vectors_from_gram_matrix(gram)\n",
    "\n",
    "            gammas.append(gamma)\n",
    "            opt_val, _ = state_exclusion(vectors, primal_dual=\"dual\")\n",
    "            opt_vals.append(opt_val)\n",
    "        plot_vals[n][\"gammas\"] = gammas\n",
    "        plot_vals[n][\"opt_vals\"] = opt_vals\n",
    "\n",
    "    for k, v in plot_vals.items():\n",
    "        plt.plot(v[\"gammas\"], v[\"opt_vals\"], \"-\", linewidth=2, label=f\"n={k}\")\n",
    "\n",
    "    plt.legend(loc=\"upper left\")\n",
    "    plt.xlabel(r\"$\\gamma$\")\n",
    "    plt.ylabel(\"Optimal SDP value\")\n",
    "    plt.title(r\"Optimal SDP value vs. $\\gamma$\")\n",
    "    plt.grid()\n",
    "    plt.show()\n",
    "\n",
    "\n",
    "plot_dims()"
   ]
  }
 ],
 "metadata": {
  "kernelspec": {
   "display_name": "circulant_antidist",
   "language": "python",
   "name": "circulant_antidist"
  },
  "language_info": {
   "codemirror_mode": {
    "name": "ipython",
    "version": 3
   },
   "file_extension": ".py",
   "mimetype": "text/x-python",
   "name": "python",
   "nbconvert_exporter": "python",
   "pygments_lexer": "ipython3",
   "version": "3.11.0"
  }
 },
 "nbformat": 4,
 "nbformat_minor": 5
}
